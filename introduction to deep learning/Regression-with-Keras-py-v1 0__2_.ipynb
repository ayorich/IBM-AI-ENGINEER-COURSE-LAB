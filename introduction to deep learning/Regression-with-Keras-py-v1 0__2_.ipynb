{
 "cells": [
  {
   "cell_type": "markdown",
   "metadata": {},
   "source": [
    "<a href=\"https://cognitiveclass.ai\"><img src=\"https://cf-courses-data.s3.us.cloud-object-storage.appdomain.cloud/IBMDeveloperSkillsNetwork-DL0101EN-SkillsNetwork/images/IDSN-logo.png\" width=\"400\"> </a>\n",
    "\n",
    "# Regression Models with Keras\n",
    "\n",
    "Estimated time needed: **45** mins\n"
   ]
  },
  {
   "cell_type": "markdown",
   "metadata": {},
   "source": [
    "## Introduction\n"
   ]
  },
  {
   "cell_type": "markdown",
   "metadata": {},
   "source": [
    "As we discussed in the videos, despite the popularity of more powerful libraries such as PyToch and TensorFlow, they are not easy to use and have a steep learning curve. So, for people who are just starting to learn deep learning, there is no better library to use other than the Keras library. \n",
    "\n",
    "Keras is a high-level API for building deep learning models. It has gained favor for its ease of use and syntactic simplicity facilitating fast development. As you will see in this lab and the other labs in this course, building a very complex deep learning network can be achieved with Keras with only few lines of code. You will appreciate Keras even more, once you learn how to build deep models using PyTorch and TensorFlow in the other courses.\n",
    "\n",
    "So, in this lab, you will learn how to use the Keras library to build a regression model.\n"
   ]
  },
  {
   "cell_type": "markdown",
   "metadata": {},
   "source": [
    "## Objectives for this Notebook    \n",
    "* How to use the Keras library to build a regression model\n",
    "* Download and clean the data set\n",
    "* Build a neural network\n",
    "* Train and test the network     \n",
    "\n"
   ]
  },
  {
   "cell_type": "markdown",
   "metadata": {},
   "source": [
    "<h2>Table of Contents</h2>\n",
    "\n",
    "\n",
    "<div class=\"alert alert-block alert-info\" style=\"margin-top: 20px\">\n",
    "\n",
    "<font size = 4>\n",
    "1. <a href=\"#Download-and-Clean-the-Data-Set\">Download and Clean the Data Set</a><br>\n",
    "2. <a href=\"#Import-Keras-Packages\">Import Keras Packages</a><br>\n",
    "3. <a href=\"#Build-a-Neural-Network\">Build a Neural Network</a><br>\n",
    "4. <a href=\"#Train-and-Test-the-Network\">Train and Test the Network</a><br>  \n",
    "\n",
    "</font>\n",
    "</div>\n"
   ]
  },
  {
   "cell_type": "markdown",
   "metadata": {},
   "source": [
    "Let's start by importing the <em>pandas</em> and the Numpy libraries.\n"
   ]
  },
  {
   "cell_type": "code",
   "execution_count": 1,
   "metadata": {},
   "outputs": [
    {
     "name": "stdout",
     "output_type": "stream",
     "text": [
      "Collecting numpy==2.0.2\n",
      "  Downloading numpy-2.0.2-cp312-cp312-manylinux_2_17_x86_64.manylinux2014_x86_64.whl.metadata (60 kB)\n",
      "Downloading numpy-2.0.2-cp312-cp312-manylinux_2_17_x86_64.manylinux2014_x86_64.whl (19.2 MB)\n",
      "\u001b[2K   \u001b[90m━━━━━━━━━━━━━━━━━━━━━━━━━━━━━━━━━━━━━━━━\u001b[0m \u001b[32m19.2/19.2 MB\u001b[0m \u001b[31m151.9 MB/s\u001b[0m eta \u001b[36m0:00:00\u001b[0m\n",
      "Installing collected packages: numpy\n",
      "Successfully installed numpy-2.0.2\n",
      "Collecting pandas==2.2.2\n",
      "  Downloading pandas-2.2.2-cp312-cp312-manylinux_2_17_x86_64.manylinux2014_x86_64.whl.metadata (19 kB)\n",
      "Requirement already satisfied: numpy>=1.26.0 in /opt/conda/lib/python3.12/site-packages (from pandas==2.2.2) (2.0.2)\n",
      "Requirement already satisfied: python-dateutil>=2.8.2 in /opt/conda/lib/python3.12/site-packages (from pandas==2.2.2) (2.9.0.post0)\n",
      "Requirement already satisfied: pytz>=2020.1 in /opt/conda/lib/python3.12/site-packages (from pandas==2.2.2) (2024.2)\n",
      "Collecting tzdata>=2022.7 (from pandas==2.2.2)\n",
      "  Downloading tzdata-2025.2-py2.py3-none-any.whl.metadata (1.4 kB)\n",
      "Requirement already satisfied: six>=1.5 in /opt/conda/lib/python3.12/site-packages (from python-dateutil>=2.8.2->pandas==2.2.2) (1.17.0)\n",
      "Downloading pandas-2.2.2-cp312-cp312-manylinux_2_17_x86_64.manylinux2014_x86_64.whl (12.7 MB)\n",
      "\u001b[2K   \u001b[90m━━━━━━━━━━━━━━━━━━━━━━━━━━━━━━━━━━━━━━━━\u001b[0m \u001b[32m12.7/12.7 MB\u001b[0m \u001b[31m154.7 MB/s\u001b[0m eta \u001b[36m0:00:00\u001b[0m\n",
      "\u001b[?25hDownloading tzdata-2025.2-py2.py3-none-any.whl (347 kB)\n",
      "Installing collected packages: tzdata, pandas\n",
      "Successfully installed pandas-2.2.2 tzdata-2025.2\n",
      "Collecting tensorflow_cpu==2.18.0\n",
      "  Downloading tensorflow_cpu-2.18.0-cp312-cp312-manylinux_2_17_x86_64.manylinux2014_x86_64.whl.metadata (4.1 kB)\n",
      "Collecting absl-py>=1.0.0 (from tensorflow_cpu==2.18.0)\n",
      "  Downloading absl_py-2.3.1-py3-none-any.whl.metadata (3.3 kB)\n",
      "Collecting astunparse>=1.6.0 (from tensorflow_cpu==2.18.0)\n",
      "  Downloading astunparse-1.6.3-py2.py3-none-any.whl.metadata (4.4 kB)\n",
      "Collecting flatbuffers>=24.3.25 (from tensorflow_cpu==2.18.0)\n",
      "  Downloading flatbuffers-25.2.10-py2.py3-none-any.whl.metadata (875 bytes)\n",
      "Collecting gast!=0.5.0,!=0.5.1,!=0.5.2,>=0.2.1 (from tensorflow_cpu==2.18.0)\n",
      "  Downloading gast-0.6.0-py3-none-any.whl.metadata (1.3 kB)\n",
      "Collecting google-pasta>=0.1.1 (from tensorflow_cpu==2.18.0)\n",
      "  Downloading google_pasta-0.2.0-py3-none-any.whl.metadata (814 bytes)\n",
      "Collecting libclang>=13.0.0 (from tensorflow_cpu==2.18.0)\n",
      "  Downloading libclang-18.1.1-py2.py3-none-manylinux2010_x86_64.whl.metadata (5.2 kB)\n",
      "Collecting opt-einsum>=2.3.2 (from tensorflow_cpu==2.18.0)\n",
      "  Downloading opt_einsum-3.4.0-py3-none-any.whl.metadata (6.3 kB)\n",
      "Requirement already satisfied: packaging in /opt/conda/lib/python3.12/site-packages (from tensorflow_cpu==2.18.0) (24.2)\n",
      "Collecting protobuf!=4.21.0,!=4.21.1,!=4.21.2,!=4.21.3,!=4.21.4,!=4.21.5,<6.0.0dev,>=3.20.3 (from tensorflow_cpu==2.18.0)\n",
      "  Downloading protobuf-5.29.5-cp38-abi3-manylinux2014_x86_64.whl.metadata (592 bytes)\n",
      "Requirement already satisfied: requests<3,>=2.21.0 in /opt/conda/lib/python3.12/site-packages (from tensorflow_cpu==2.18.0) (2.32.3)\n",
      "Requirement already satisfied: setuptools in /opt/conda/lib/python3.12/site-packages (from tensorflow_cpu==2.18.0) (75.8.0)\n",
      "Requirement already satisfied: six>=1.12.0 in /opt/conda/lib/python3.12/site-packages (from tensorflow_cpu==2.18.0) (1.17.0)\n",
      "Collecting termcolor>=1.1.0 (from tensorflow_cpu==2.18.0)\n",
      "  Downloading termcolor-3.1.0-py3-none-any.whl.metadata (6.4 kB)\n",
      "Requirement already satisfied: typing-extensions>=3.6.6 in /opt/conda/lib/python3.12/site-packages (from tensorflow_cpu==2.18.0) (4.12.2)\n",
      "Collecting wrapt>=1.11.0 (from tensorflow_cpu==2.18.0)\n",
      "  Downloading wrapt-1.17.3-cp312-cp312-manylinux1_x86_64.manylinux_2_28_x86_64.manylinux_2_5_x86_64.whl.metadata (6.4 kB)\n",
      "Collecting grpcio<2.0,>=1.24.3 (from tensorflow_cpu==2.18.0)\n",
      "  Downloading grpcio-1.74.0-cp312-cp312-manylinux_2_17_x86_64.manylinux2014_x86_64.whl.metadata (3.8 kB)\n",
      "Collecting tensorboard<2.19,>=2.18 (from tensorflow_cpu==2.18.0)\n",
      "  Downloading tensorboard-2.18.0-py3-none-any.whl.metadata (1.6 kB)\n",
      "Collecting keras>=3.5.0 (from tensorflow_cpu==2.18.0)\n",
      "  Downloading keras-3.11.3-py3-none-any.whl.metadata (5.9 kB)\n",
      "Requirement already satisfied: numpy<2.1.0,>=1.26.0 in /opt/conda/lib/python3.12/site-packages (from tensorflow_cpu==2.18.0) (2.0.2)\n",
      "Collecting h5py>=3.11.0 (from tensorflow_cpu==2.18.0)\n",
      "  Downloading h5py-3.14.0-cp312-cp312-manylinux_2_17_x86_64.manylinux2014_x86_64.whl.metadata (2.7 kB)\n",
      "Collecting ml-dtypes<0.5.0,>=0.4.0 (from tensorflow_cpu==2.18.0)\n",
      "  Downloading ml_dtypes-0.4.1-cp312-cp312-manylinux_2_17_x86_64.manylinux2014_x86_64.whl.metadata (20 kB)\n",
      "Requirement already satisfied: wheel<1.0,>=0.23.0 in /opt/conda/lib/python3.12/site-packages (from astunparse>=1.6.0->tensorflow_cpu==2.18.0) (0.45.1)\n",
      "Collecting rich (from keras>=3.5.0->tensorflow_cpu==2.18.0)\n",
      "  Downloading rich-14.1.0-py3-none-any.whl.metadata (18 kB)\n",
      "Collecting namex (from keras>=3.5.0->tensorflow_cpu==2.18.0)\n",
      "  Downloading namex-0.1.0-py3-none-any.whl.metadata (322 bytes)\n",
      "Collecting optree (from keras>=3.5.0->tensorflow_cpu==2.18.0)\n",
      "  Downloading optree-0.17.0-cp312-cp312-manylinux_2_27_x86_64.manylinux_2_28_x86_64.whl.metadata (33 kB)\n",
      "Requirement already satisfied: charset_normalizer<4,>=2 in /opt/conda/lib/python3.12/site-packages (from requests<3,>=2.21.0->tensorflow_cpu==2.18.0) (3.4.1)\n",
      "Requirement already satisfied: idna<4,>=2.5 in /opt/conda/lib/python3.12/site-packages (from requests<3,>=2.21.0->tensorflow_cpu==2.18.0) (3.10)\n",
      "Requirement already satisfied: urllib3<3,>=1.21.1 in /opt/conda/lib/python3.12/site-packages (from requests<3,>=2.21.0->tensorflow_cpu==2.18.0) (2.3.0)\n",
      "Requirement already satisfied: certifi>=2017.4.17 in /opt/conda/lib/python3.12/site-packages (from requests<3,>=2.21.0->tensorflow_cpu==2.18.0) (2024.12.14)\n",
      "Collecting markdown>=2.6.8 (from tensorboard<2.19,>=2.18->tensorflow_cpu==2.18.0)\n",
      "  Downloading markdown-3.9-py3-none-any.whl.metadata (5.1 kB)\n",
      "Collecting tensorboard-data-server<0.8.0,>=0.7.0 (from tensorboard<2.19,>=2.18->tensorflow_cpu==2.18.0)\n",
      "  Downloading tensorboard_data_server-0.7.2-py3-none-manylinux_2_31_x86_64.whl.metadata (1.1 kB)\n",
      "Collecting werkzeug>=1.0.1 (from tensorboard<2.19,>=2.18->tensorflow_cpu==2.18.0)\n",
      "  Downloading werkzeug-3.1.3-py3-none-any.whl.metadata (3.7 kB)\n",
      "Requirement already satisfied: MarkupSafe>=2.1.1 in /opt/conda/lib/python3.12/site-packages (from werkzeug>=1.0.1->tensorboard<2.19,>=2.18->tensorflow_cpu==2.18.0) (3.0.2)\n",
      "Collecting markdown-it-py>=2.2.0 (from rich->keras>=3.5.0->tensorflow_cpu==2.18.0)\n",
      "  Downloading markdown_it_py-4.0.0-py3-none-any.whl.metadata (7.3 kB)\n",
      "Requirement already satisfied: pygments<3.0.0,>=2.13.0 in /opt/conda/lib/python3.12/site-packages (from rich->keras>=3.5.0->tensorflow_cpu==2.18.0) (2.19.1)\n",
      "Collecting mdurl~=0.1 (from markdown-it-py>=2.2.0->rich->keras>=3.5.0->tensorflow_cpu==2.18.0)\n",
      "  Downloading mdurl-0.1.2-py3-none-any.whl.metadata (1.6 kB)\n",
      "Downloading tensorflow_cpu-2.18.0-cp312-cp312-manylinux_2_17_x86_64.manylinux2014_x86_64.whl (230.3 MB)\n",
      "\u001b[2K   \u001b[90m━━━━━━━━━━━━━━━━━━━━━━━━━━━━━━━━━━━━━━━━\u001b[0m \u001b[32m230.3/230.3 MB\u001b[0m \u001b[31m41.3 MB/s\u001b[0m eta \u001b[36m0:00:00\u001b[0m00:01\u001b[0m00:01\u001b[0m\n",
      "\u001b[?25hDownloading absl_py-2.3.1-py3-none-any.whl (135 kB)\n",
      "Downloading astunparse-1.6.3-py2.py3-none-any.whl (12 kB)\n",
      "Downloading flatbuffers-25.2.10-py2.py3-none-any.whl (30 kB)\n",
      "Downloading gast-0.6.0-py3-none-any.whl (21 kB)\n",
      "Downloading google_pasta-0.2.0-py3-none-any.whl (57 kB)\n",
      "Downloading grpcio-1.74.0-cp312-cp312-manylinux_2_17_x86_64.manylinux2014_x86_64.whl (6.2 MB)\n",
      "\u001b[2K   \u001b[90m━━━━━━━━━━━━━━━━━━━━━━━━━━━━━━━━━━━━━━━━\u001b[0m \u001b[32m6.2/6.2 MB\u001b[0m \u001b[31m78.0 MB/s\u001b[0m eta \u001b[36m0:00:00\u001b[0m\n",
      "\u001b[?25hDownloading h5py-3.14.0-cp312-cp312-manylinux_2_17_x86_64.manylinux2014_x86_64.whl (4.9 MB)\n",
      "\u001b[2K   \u001b[90m━━━━━━━━━━━━━━━━━━━━━━━━━━━━━━━━━━━━━━━━\u001b[0m \u001b[32m4.9/4.9 MB\u001b[0m \u001b[31m50.7 MB/s\u001b[0m eta \u001b[36m0:00:00\u001b[0m\n",
      "\u001b[?25hDownloading keras-3.11.3-py3-none-any.whl (1.4 MB)\n",
      "\u001b[2K   \u001b[90m━━━━━━━━━━━━━━━━━━━━━━━━━━━━━━━━━━━━━━━━\u001b[0m \u001b[32m1.4/1.4 MB\u001b[0m \u001b[31m49.7 MB/s\u001b[0m eta \u001b[36m0:00:00\u001b[0m\n",
      "\u001b[?25hDownloading libclang-18.1.1-py2.py3-none-manylinux2010_x86_64.whl (24.5 MB)\n",
      "\u001b[2K   \u001b[90m━━━━━━━━━━━━━━━━━━━━━━━━━━━━━━━━━━━━━━━━\u001b[0m \u001b[32m24.5/24.5 MB\u001b[0m \u001b[31m48.4 MB/s\u001b[0m eta \u001b[36m0:00:00\u001b[0m:00:01\u001b[0m\n",
      "\u001b[?25hDownloading ml_dtypes-0.4.1-cp312-cp312-manylinux_2_17_x86_64.manylinux2014_x86_64.whl (2.2 MB)\n",
      "\u001b[2K   \u001b[90m━━━━━━━━━━━━━━━━━━━━━━━━━━━━━━━━━━━━━━━━\u001b[0m \u001b[32m2.2/2.2 MB\u001b[0m \u001b[31m57.5 MB/s\u001b[0m eta \u001b[36m0:00:00\u001b[0m\n",
      "\u001b[?25hDownloading opt_einsum-3.4.0-py3-none-any.whl (71 kB)\n",
      "Downloading protobuf-5.29.5-cp38-abi3-manylinux2014_x86_64.whl (319 kB)\n",
      "Downloading tensorboard-2.18.0-py3-none-any.whl (5.5 MB)\n",
      "\u001b[2K   \u001b[90m━━━━━━━━━━━━━━━━━━━━━━━━━━━━━━━━━━━━━━━━\u001b[0m \u001b[32m5.5/5.5 MB\u001b[0m \u001b[31m51.3 MB/s\u001b[0m eta \u001b[36m0:00:00\u001b[0m\n",
      "\u001b[?25hDownloading termcolor-3.1.0-py3-none-any.whl (7.7 kB)\n",
      "Downloading wrapt-1.17.3-cp312-cp312-manylinux1_x86_64.manylinux_2_28_x86_64.manylinux_2_5_x86_64.whl (88 kB)\n",
      "Downloading markdown-3.9-py3-none-any.whl (107 kB)\n",
      "Downloading tensorboard_data_server-0.7.2-py3-none-manylinux_2_31_x86_64.whl (6.6 MB)\n",
      "\u001b[2K   \u001b[90m━━━━━━━━━━━━━━━━━━━━━━━━━━━━━━━━━━━━━━━━\u001b[0m \u001b[32m6.6/6.6 MB\u001b[0m \u001b[31m55.7 MB/s\u001b[0m eta \u001b[36m0:00:00\u001b[0m\n",
      "\u001b[?25hDownloading werkzeug-3.1.3-py3-none-any.whl (224 kB)\n",
      "Downloading namex-0.1.0-py3-none-any.whl (5.9 kB)\n",
      "Downloading optree-0.17.0-cp312-cp312-manylinux_2_27_x86_64.manylinux_2_28_x86_64.whl (408 kB)\n",
      "Downloading rich-14.1.0-py3-none-any.whl (243 kB)\n",
      "Downloading markdown_it_py-4.0.0-py3-none-any.whl (87 kB)\n",
      "Downloading mdurl-0.1.2-py3-none-any.whl (10.0 kB)\n",
      "Installing collected packages: namex, libclang, flatbuffers, wrapt, werkzeug, termcolor, tensorboard-data-server, protobuf, optree, opt-einsum, ml-dtypes, mdurl, markdown, h5py, grpcio, google-pasta, gast, astunparse, absl-py, tensorboard, markdown-it-py, rich, keras, tensorflow_cpu\n",
      "Successfully installed absl-py-2.3.1 astunparse-1.6.3 flatbuffers-25.2.10 gast-0.6.0 google-pasta-0.2.0 grpcio-1.74.0 h5py-3.14.0 keras-3.11.3 libclang-18.1.1 markdown-3.9 markdown-it-py-4.0.0 mdurl-0.1.2 ml-dtypes-0.4.1 namex-0.1.0 opt-einsum-3.4.0 optree-0.17.0 protobuf-5.29.5 rich-14.1.0 tensorboard-2.18.0 tensorboard-data-server-0.7.2 tensorflow_cpu-2.18.0 termcolor-3.1.0 werkzeug-3.1.3 wrapt-1.17.3\n"
     ]
    }
   ],
   "source": [
    "# All Libraries required for this lab are listed below. \n",
    "\n",
    "!pip install numpy==2.0.2\n",
    "!pip install pandas==2.2.2\n",
    "!pip install tensorflow_cpu==2.18.0\n"
   ]
  },
  {
   "cell_type": "markdown",
   "metadata": {},
   "source": [
    "#### To use Keras, you will also need to install a backend framework – such as TensorFlow.\n",
    "\n",
    "If you install TensorFlow 2.16 or above, it will install Keras by default.\n",
    "\n",
    "We are using the CPU version of tensorflow since we are dealing with smaller datasets. \n",
    "You may install the GPU version of tensorflow on your machine to accelarate the processing of larger datasets\n"
   ]
  },
  {
   "cell_type": "markdown",
   "metadata": {},
   "source": [
    "#### Suppress the tensorflow warning messages\n",
    "We use the following code to  suppress the warning messages due to use of CPU architechture for tensoflow.\n",
    "\n",
    "You may want to **comment out** these lines if you are using the GPU architechture\n"
   ]
  },
  {
   "cell_type": "code",
   "execution_count": 2,
   "metadata": {},
   "outputs": [],
   "source": [
    "import os\n",
    "os.environ['TF_ENABLE_ONEDNN_OPTS'] = '0'\n",
    "os.environ['TF_CPP_MIN_LOG_LEVEL'] = '2'"
   ]
  },
  {
   "cell_type": "code",
   "execution_count": 3,
   "metadata": {},
   "outputs": [],
   "source": [
    "import pandas as pd\n",
    "import numpy as np\n",
    "import keras\n",
    "\n",
    "import warnings\n",
    "warnings.simplefilter('ignore', FutureWarning)"
   ]
  },
  {
   "cell_type": "markdown",
   "metadata": {},
   "source": [
    "We will be playing around with the same dataset that we used in the videos.\n",
    "\n",
    "<strong>The dataset is about the compressive strength of different samples of concrete based on the volumes of the different ingredients that were used to make them. Ingredients include:</strong>\n",
    "\n",
    "* Cement\n",
    "* Blast furnace slag\n",
    "* Fly ash\n",
    "* Water\n",
    "* Superplasticizer\n",
    "* Coarse aggregate\n",
    "* Fine aggregate\n"
   ]
  },
  {
   "cell_type": "markdown",
   "metadata": {},
   "source": [
    "## Download and Clean the Data Set\n"
   ]
  },
  {
   "cell_type": "markdown",
   "metadata": {},
   "source": [
    "Let's download the data and read it into a <em>pandas</em> dataframe.\n"
   ]
  },
  {
   "cell_type": "code",
   "execution_count": 4,
   "metadata": {},
   "outputs": [
    {
     "data": {
      "text/html": [
       "<div>\n",
       "<style scoped>\n",
       "    .dataframe tbody tr th:only-of-type {\n",
       "        vertical-align: middle;\n",
       "    }\n",
       "\n",
       "    .dataframe tbody tr th {\n",
       "        vertical-align: top;\n",
       "    }\n",
       "\n",
       "    .dataframe thead th {\n",
       "        text-align: right;\n",
       "    }\n",
       "</style>\n",
       "<table border=\"1\" class=\"dataframe\">\n",
       "  <thead>\n",
       "    <tr style=\"text-align: right;\">\n",
       "      <th></th>\n",
       "      <th>Cement</th>\n",
       "      <th>Blast Furnace Slag</th>\n",
       "      <th>Fly Ash</th>\n",
       "      <th>Water</th>\n",
       "      <th>Superplasticizer</th>\n",
       "      <th>Coarse Aggregate</th>\n",
       "      <th>Fine Aggregate</th>\n",
       "      <th>Age</th>\n",
       "      <th>Strength</th>\n",
       "    </tr>\n",
       "  </thead>\n",
       "  <tbody>\n",
       "    <tr>\n",
       "      <th>0</th>\n",
       "      <td>540.0</td>\n",
       "      <td>0.0</td>\n",
       "      <td>0.0</td>\n",
       "      <td>162.0</td>\n",
       "      <td>2.5</td>\n",
       "      <td>1040.0</td>\n",
       "      <td>676.0</td>\n",
       "      <td>28</td>\n",
       "      <td>79.99</td>\n",
       "    </tr>\n",
       "    <tr>\n",
       "      <th>1</th>\n",
       "      <td>540.0</td>\n",
       "      <td>0.0</td>\n",
       "      <td>0.0</td>\n",
       "      <td>162.0</td>\n",
       "      <td>2.5</td>\n",
       "      <td>1055.0</td>\n",
       "      <td>676.0</td>\n",
       "      <td>28</td>\n",
       "      <td>61.89</td>\n",
       "    </tr>\n",
       "    <tr>\n",
       "      <th>2</th>\n",
       "      <td>332.5</td>\n",
       "      <td>142.5</td>\n",
       "      <td>0.0</td>\n",
       "      <td>228.0</td>\n",
       "      <td>0.0</td>\n",
       "      <td>932.0</td>\n",
       "      <td>594.0</td>\n",
       "      <td>270</td>\n",
       "      <td>40.27</td>\n",
       "    </tr>\n",
       "    <tr>\n",
       "      <th>3</th>\n",
       "      <td>332.5</td>\n",
       "      <td>142.5</td>\n",
       "      <td>0.0</td>\n",
       "      <td>228.0</td>\n",
       "      <td>0.0</td>\n",
       "      <td>932.0</td>\n",
       "      <td>594.0</td>\n",
       "      <td>365</td>\n",
       "      <td>41.05</td>\n",
       "    </tr>\n",
       "    <tr>\n",
       "      <th>4</th>\n",
       "      <td>198.6</td>\n",
       "      <td>132.4</td>\n",
       "      <td>0.0</td>\n",
       "      <td>192.0</td>\n",
       "      <td>0.0</td>\n",
       "      <td>978.4</td>\n",
       "      <td>825.5</td>\n",
       "      <td>360</td>\n",
       "      <td>44.30</td>\n",
       "    </tr>\n",
       "  </tbody>\n",
       "</table>\n",
       "</div>"
      ],
      "text/plain": [
       "   Cement  Blast Furnace Slag  Fly Ash  Water  Superplasticizer  \\\n",
       "0   540.0                 0.0      0.0  162.0               2.5   \n",
       "1   540.0                 0.0      0.0  162.0               2.5   \n",
       "2   332.5               142.5      0.0  228.0               0.0   \n",
       "3   332.5               142.5      0.0  228.0               0.0   \n",
       "4   198.6               132.4      0.0  192.0               0.0   \n",
       "\n",
       "   Coarse Aggregate  Fine Aggregate  Age  Strength  \n",
       "0            1040.0           676.0   28     79.99  \n",
       "1            1055.0           676.0   28     61.89  \n",
       "2             932.0           594.0  270     40.27  \n",
       "3             932.0           594.0  365     41.05  \n",
       "4             978.4           825.5  360     44.30  "
      ]
     },
     "execution_count": 4,
     "metadata": {},
     "output_type": "execute_result"
    }
   ],
   "source": [
    "filepath='https://s3-api.us-geo.objectstorage.softlayer.net/cf-courses-data/CognitiveClass/DL0101EN/labs/data/concrete_data.csv'\n",
    "concrete_data = pd.read_csv(filepath)\n",
    "\n",
    "concrete_data.head()"
   ]
  },
  {
   "cell_type": "markdown",
   "metadata": {},
   "source": [
    "So the first concrete sample has 540 cubic meter of cement, 0 cubic meter of blast furnace slag, 0 cubic meter of fly ash, 162 cubic meter of water, 2.5 cubic meter of superplaticizer, 1040 cubic meter of coarse aggregate, 676 cubic meter of fine aggregate. Such a concrete mix which is 28 days old, has a compressive strength of 79.99 MPa. \n"
   ]
  },
  {
   "cell_type": "markdown",
   "metadata": {},
   "source": [
    "#### Let's check how many data points we have\n"
   ]
  },
  {
   "cell_type": "code",
   "execution_count": 5,
   "metadata": {},
   "outputs": [
    {
     "data": {
      "text/plain": [
       "(1030, 9)"
      ]
     },
     "execution_count": 5,
     "metadata": {},
     "output_type": "execute_result"
    }
   ],
   "source": [
    "concrete_data.shape"
   ]
  },
  {
   "cell_type": "markdown",
   "metadata": {},
   "source": [
    "So, there are approximately 1000 samples to train our model on. Because of the few samples, we have to be careful not to overfit the training data.\n"
   ]
  },
  {
   "cell_type": "markdown",
   "metadata": {},
   "source": [
    "Let's check the dataset for any missing values.\n"
   ]
  },
  {
   "cell_type": "code",
   "execution_count": 6,
   "metadata": {},
   "outputs": [
    {
     "data": {
      "text/html": [
       "<div>\n",
       "<style scoped>\n",
       "    .dataframe tbody tr th:only-of-type {\n",
       "        vertical-align: middle;\n",
       "    }\n",
       "\n",
       "    .dataframe tbody tr th {\n",
       "        vertical-align: top;\n",
       "    }\n",
       "\n",
       "    .dataframe thead th {\n",
       "        text-align: right;\n",
       "    }\n",
       "</style>\n",
       "<table border=\"1\" class=\"dataframe\">\n",
       "  <thead>\n",
       "    <tr style=\"text-align: right;\">\n",
       "      <th></th>\n",
       "      <th>Cement</th>\n",
       "      <th>Blast Furnace Slag</th>\n",
       "      <th>Fly Ash</th>\n",
       "      <th>Water</th>\n",
       "      <th>Superplasticizer</th>\n",
       "      <th>Coarse Aggregate</th>\n",
       "      <th>Fine Aggregate</th>\n",
       "      <th>Age</th>\n",
       "      <th>Strength</th>\n",
       "    </tr>\n",
       "  </thead>\n",
       "  <tbody>\n",
       "    <tr>\n",
       "      <th>count</th>\n",
       "      <td>1030.000000</td>\n",
       "      <td>1030.000000</td>\n",
       "      <td>1030.000000</td>\n",
       "      <td>1030.000000</td>\n",
       "      <td>1030.000000</td>\n",
       "      <td>1030.000000</td>\n",
       "      <td>1030.000000</td>\n",
       "      <td>1030.000000</td>\n",
       "      <td>1030.000000</td>\n",
       "    </tr>\n",
       "    <tr>\n",
       "      <th>mean</th>\n",
       "      <td>281.167864</td>\n",
       "      <td>73.895825</td>\n",
       "      <td>54.188350</td>\n",
       "      <td>181.567282</td>\n",
       "      <td>6.204660</td>\n",
       "      <td>972.918932</td>\n",
       "      <td>773.580485</td>\n",
       "      <td>45.662136</td>\n",
       "      <td>35.817961</td>\n",
       "    </tr>\n",
       "    <tr>\n",
       "      <th>std</th>\n",
       "      <td>104.506364</td>\n",
       "      <td>86.279342</td>\n",
       "      <td>63.997004</td>\n",
       "      <td>21.354219</td>\n",
       "      <td>5.973841</td>\n",
       "      <td>77.753954</td>\n",
       "      <td>80.175980</td>\n",
       "      <td>63.169912</td>\n",
       "      <td>16.705742</td>\n",
       "    </tr>\n",
       "    <tr>\n",
       "      <th>min</th>\n",
       "      <td>102.000000</td>\n",
       "      <td>0.000000</td>\n",
       "      <td>0.000000</td>\n",
       "      <td>121.800000</td>\n",
       "      <td>0.000000</td>\n",
       "      <td>801.000000</td>\n",
       "      <td>594.000000</td>\n",
       "      <td>1.000000</td>\n",
       "      <td>2.330000</td>\n",
       "    </tr>\n",
       "    <tr>\n",
       "      <th>25%</th>\n",
       "      <td>192.375000</td>\n",
       "      <td>0.000000</td>\n",
       "      <td>0.000000</td>\n",
       "      <td>164.900000</td>\n",
       "      <td>0.000000</td>\n",
       "      <td>932.000000</td>\n",
       "      <td>730.950000</td>\n",
       "      <td>7.000000</td>\n",
       "      <td>23.710000</td>\n",
       "    </tr>\n",
       "    <tr>\n",
       "      <th>50%</th>\n",
       "      <td>272.900000</td>\n",
       "      <td>22.000000</td>\n",
       "      <td>0.000000</td>\n",
       "      <td>185.000000</td>\n",
       "      <td>6.400000</td>\n",
       "      <td>968.000000</td>\n",
       "      <td>779.500000</td>\n",
       "      <td>28.000000</td>\n",
       "      <td>34.445000</td>\n",
       "    </tr>\n",
       "    <tr>\n",
       "      <th>75%</th>\n",
       "      <td>350.000000</td>\n",
       "      <td>142.950000</td>\n",
       "      <td>118.300000</td>\n",
       "      <td>192.000000</td>\n",
       "      <td>10.200000</td>\n",
       "      <td>1029.400000</td>\n",
       "      <td>824.000000</td>\n",
       "      <td>56.000000</td>\n",
       "      <td>46.135000</td>\n",
       "    </tr>\n",
       "    <tr>\n",
       "      <th>max</th>\n",
       "      <td>540.000000</td>\n",
       "      <td>359.400000</td>\n",
       "      <td>200.100000</td>\n",
       "      <td>247.000000</td>\n",
       "      <td>32.200000</td>\n",
       "      <td>1145.000000</td>\n",
       "      <td>992.600000</td>\n",
       "      <td>365.000000</td>\n",
       "      <td>82.600000</td>\n",
       "    </tr>\n",
       "  </tbody>\n",
       "</table>\n",
       "</div>"
      ],
      "text/plain": [
       "            Cement  Blast Furnace Slag      Fly Ash        Water  \\\n",
       "count  1030.000000         1030.000000  1030.000000  1030.000000   \n",
       "mean    281.167864           73.895825    54.188350   181.567282   \n",
       "std     104.506364           86.279342    63.997004    21.354219   \n",
       "min     102.000000            0.000000     0.000000   121.800000   \n",
       "25%     192.375000            0.000000     0.000000   164.900000   \n",
       "50%     272.900000           22.000000     0.000000   185.000000   \n",
       "75%     350.000000          142.950000   118.300000   192.000000   \n",
       "max     540.000000          359.400000   200.100000   247.000000   \n",
       "\n",
       "       Superplasticizer  Coarse Aggregate  Fine Aggregate          Age  \\\n",
       "count       1030.000000       1030.000000     1030.000000  1030.000000   \n",
       "mean           6.204660        972.918932      773.580485    45.662136   \n",
       "std            5.973841         77.753954       80.175980    63.169912   \n",
       "min            0.000000        801.000000      594.000000     1.000000   \n",
       "25%            0.000000        932.000000      730.950000     7.000000   \n",
       "50%            6.400000        968.000000      779.500000    28.000000   \n",
       "75%           10.200000       1029.400000      824.000000    56.000000   \n",
       "max           32.200000       1145.000000      992.600000   365.000000   \n",
       "\n",
       "          Strength  \n",
       "count  1030.000000  \n",
       "mean     35.817961  \n",
       "std      16.705742  \n",
       "min       2.330000  \n",
       "25%      23.710000  \n",
       "50%      34.445000  \n",
       "75%      46.135000  \n",
       "max      82.600000  "
      ]
     },
     "execution_count": 6,
     "metadata": {},
     "output_type": "execute_result"
    }
   ],
   "source": [
    "concrete_data.describe()"
   ]
  },
  {
   "cell_type": "code",
   "execution_count": 7,
   "metadata": {},
   "outputs": [
    {
     "data": {
      "text/plain": [
       "Cement                0\n",
       "Blast Furnace Slag    0\n",
       "Fly Ash               0\n",
       "Water                 0\n",
       "Superplasticizer      0\n",
       "Coarse Aggregate      0\n",
       "Fine Aggregate        0\n",
       "Age                   0\n",
       "Strength              0\n",
       "dtype: int64"
      ]
     },
     "execution_count": 7,
     "metadata": {},
     "output_type": "execute_result"
    }
   ],
   "source": [
    "concrete_data.isnull().sum()"
   ]
  },
  {
   "cell_type": "markdown",
   "metadata": {},
   "source": [
    "The data looks very clean and is ready to be used to build our model.\n"
   ]
  },
  {
   "cell_type": "markdown",
   "metadata": {},
   "source": [
    "#### Split data into predictors and target\n"
   ]
  },
  {
   "cell_type": "markdown",
   "metadata": {},
   "source": [
    "The target variable in this problem is the concrete sample strength. Therefore, our predictors will be all the other columns.\n"
   ]
  },
  {
   "cell_type": "code",
   "execution_count": 8,
   "metadata": {},
   "outputs": [],
   "source": [
    "concrete_data_columns = concrete_data.columns"
   ]
  },
  {
   "cell_type": "code",
   "execution_count": 9,
   "metadata": {},
   "outputs": [],
   "source": [
    "predictors = concrete_data[concrete_data_columns[concrete_data_columns != 'Strength']] # all columns except Strength\n",
    "target = concrete_data['Strength'] # Strength column"
   ]
  },
  {
   "cell_type": "markdown",
   "metadata": {},
   "source": [
    "<a id=\"item2\"></a>\n"
   ]
  },
  {
   "cell_type": "markdown",
   "metadata": {},
   "source": [
    "Let's do a quick sanity check of the predictors and the target dataframes.\n"
   ]
  },
  {
   "cell_type": "code",
   "execution_count": 10,
   "metadata": {},
   "outputs": [
    {
     "data": {
      "text/html": [
       "<div>\n",
       "<style scoped>\n",
       "    .dataframe tbody tr th:only-of-type {\n",
       "        vertical-align: middle;\n",
       "    }\n",
       "\n",
       "    .dataframe tbody tr th {\n",
       "        vertical-align: top;\n",
       "    }\n",
       "\n",
       "    .dataframe thead th {\n",
       "        text-align: right;\n",
       "    }\n",
       "</style>\n",
       "<table border=\"1\" class=\"dataframe\">\n",
       "  <thead>\n",
       "    <tr style=\"text-align: right;\">\n",
       "      <th></th>\n",
       "      <th>Cement</th>\n",
       "      <th>Blast Furnace Slag</th>\n",
       "      <th>Fly Ash</th>\n",
       "      <th>Water</th>\n",
       "      <th>Superplasticizer</th>\n",
       "      <th>Coarse Aggregate</th>\n",
       "      <th>Fine Aggregate</th>\n",
       "      <th>Age</th>\n",
       "    </tr>\n",
       "  </thead>\n",
       "  <tbody>\n",
       "    <tr>\n",
       "      <th>0</th>\n",
       "      <td>540.0</td>\n",
       "      <td>0.0</td>\n",
       "      <td>0.0</td>\n",
       "      <td>162.0</td>\n",
       "      <td>2.5</td>\n",
       "      <td>1040.0</td>\n",
       "      <td>676.0</td>\n",
       "      <td>28</td>\n",
       "    </tr>\n",
       "    <tr>\n",
       "      <th>1</th>\n",
       "      <td>540.0</td>\n",
       "      <td>0.0</td>\n",
       "      <td>0.0</td>\n",
       "      <td>162.0</td>\n",
       "      <td>2.5</td>\n",
       "      <td>1055.0</td>\n",
       "      <td>676.0</td>\n",
       "      <td>28</td>\n",
       "    </tr>\n",
       "    <tr>\n",
       "      <th>2</th>\n",
       "      <td>332.5</td>\n",
       "      <td>142.5</td>\n",
       "      <td>0.0</td>\n",
       "      <td>228.0</td>\n",
       "      <td>0.0</td>\n",
       "      <td>932.0</td>\n",
       "      <td>594.0</td>\n",
       "      <td>270</td>\n",
       "    </tr>\n",
       "    <tr>\n",
       "      <th>3</th>\n",
       "      <td>332.5</td>\n",
       "      <td>142.5</td>\n",
       "      <td>0.0</td>\n",
       "      <td>228.0</td>\n",
       "      <td>0.0</td>\n",
       "      <td>932.0</td>\n",
       "      <td>594.0</td>\n",
       "      <td>365</td>\n",
       "    </tr>\n",
       "    <tr>\n",
       "      <th>4</th>\n",
       "      <td>198.6</td>\n",
       "      <td>132.4</td>\n",
       "      <td>0.0</td>\n",
       "      <td>192.0</td>\n",
       "      <td>0.0</td>\n",
       "      <td>978.4</td>\n",
       "      <td>825.5</td>\n",
       "      <td>360</td>\n",
       "    </tr>\n",
       "  </tbody>\n",
       "</table>\n",
       "</div>"
      ],
      "text/plain": [
       "   Cement  Blast Furnace Slag  Fly Ash  Water  Superplasticizer  \\\n",
       "0   540.0                 0.0      0.0  162.0               2.5   \n",
       "1   540.0                 0.0      0.0  162.0               2.5   \n",
       "2   332.5               142.5      0.0  228.0               0.0   \n",
       "3   332.5               142.5      0.0  228.0               0.0   \n",
       "4   198.6               132.4      0.0  192.0               0.0   \n",
       "\n",
       "   Coarse Aggregate  Fine Aggregate  Age  \n",
       "0            1040.0           676.0   28  \n",
       "1            1055.0           676.0   28  \n",
       "2             932.0           594.0  270  \n",
       "3             932.0           594.0  365  \n",
       "4             978.4           825.5  360  "
      ]
     },
     "execution_count": 10,
     "metadata": {},
     "output_type": "execute_result"
    }
   ],
   "source": [
    "predictors.head()"
   ]
  },
  {
   "cell_type": "code",
   "execution_count": 11,
   "metadata": {},
   "outputs": [
    {
     "data": {
      "text/plain": [
       "0    79.99\n",
       "1    61.89\n",
       "2    40.27\n",
       "3    41.05\n",
       "4    44.30\n",
       "Name: Strength, dtype: float64"
      ]
     },
     "execution_count": 11,
     "metadata": {},
     "output_type": "execute_result"
    }
   ],
   "source": [
    "target.head()"
   ]
  },
  {
   "cell_type": "markdown",
   "metadata": {},
   "source": [
    "Finally, the last step is to normalize the data by substracting the mean and dividing by the standard deviation.\n"
   ]
  },
  {
   "cell_type": "code",
   "execution_count": 12,
   "metadata": {},
   "outputs": [
    {
     "data": {
      "text/html": [
       "<div>\n",
       "<style scoped>\n",
       "    .dataframe tbody tr th:only-of-type {\n",
       "        vertical-align: middle;\n",
       "    }\n",
       "\n",
       "    .dataframe tbody tr th {\n",
       "        vertical-align: top;\n",
       "    }\n",
       "\n",
       "    .dataframe thead th {\n",
       "        text-align: right;\n",
       "    }\n",
       "</style>\n",
       "<table border=\"1\" class=\"dataframe\">\n",
       "  <thead>\n",
       "    <tr style=\"text-align: right;\">\n",
       "      <th></th>\n",
       "      <th>Cement</th>\n",
       "      <th>Blast Furnace Slag</th>\n",
       "      <th>Fly Ash</th>\n",
       "      <th>Water</th>\n",
       "      <th>Superplasticizer</th>\n",
       "      <th>Coarse Aggregate</th>\n",
       "      <th>Fine Aggregate</th>\n",
       "      <th>Age</th>\n",
       "    </tr>\n",
       "  </thead>\n",
       "  <tbody>\n",
       "    <tr>\n",
       "      <th>0</th>\n",
       "      <td>2.476712</td>\n",
       "      <td>-0.856472</td>\n",
       "      <td>-0.846733</td>\n",
       "      <td>-0.916319</td>\n",
       "      <td>-0.620147</td>\n",
       "      <td>0.862735</td>\n",
       "      <td>-1.217079</td>\n",
       "      <td>-0.279597</td>\n",
       "    </tr>\n",
       "    <tr>\n",
       "      <th>1</th>\n",
       "      <td>2.476712</td>\n",
       "      <td>-0.856472</td>\n",
       "      <td>-0.846733</td>\n",
       "      <td>-0.916319</td>\n",
       "      <td>-0.620147</td>\n",
       "      <td>1.055651</td>\n",
       "      <td>-1.217079</td>\n",
       "      <td>-0.279597</td>\n",
       "    </tr>\n",
       "    <tr>\n",
       "      <th>2</th>\n",
       "      <td>0.491187</td>\n",
       "      <td>0.795140</td>\n",
       "      <td>-0.846733</td>\n",
       "      <td>2.174405</td>\n",
       "      <td>-1.038638</td>\n",
       "      <td>-0.526262</td>\n",
       "      <td>-2.239829</td>\n",
       "      <td>3.551340</td>\n",
       "    </tr>\n",
       "    <tr>\n",
       "      <th>3</th>\n",
       "      <td>0.491187</td>\n",
       "      <td>0.795140</td>\n",
       "      <td>-0.846733</td>\n",
       "      <td>2.174405</td>\n",
       "      <td>-1.038638</td>\n",
       "      <td>-0.526262</td>\n",
       "      <td>-2.239829</td>\n",
       "      <td>5.055221</td>\n",
       "    </tr>\n",
       "    <tr>\n",
       "      <th>4</th>\n",
       "      <td>-0.790075</td>\n",
       "      <td>0.678079</td>\n",
       "      <td>-0.846733</td>\n",
       "      <td>0.488555</td>\n",
       "      <td>-1.038638</td>\n",
       "      <td>0.070492</td>\n",
       "      <td>0.647569</td>\n",
       "      <td>4.976069</td>\n",
       "    </tr>\n",
       "  </tbody>\n",
       "</table>\n",
       "</div>"
      ],
      "text/plain": [
       "     Cement  Blast Furnace Slag   Fly Ash     Water  Superplasticizer  \\\n",
       "0  2.476712           -0.856472 -0.846733 -0.916319         -0.620147   \n",
       "1  2.476712           -0.856472 -0.846733 -0.916319         -0.620147   \n",
       "2  0.491187            0.795140 -0.846733  2.174405         -1.038638   \n",
       "3  0.491187            0.795140 -0.846733  2.174405         -1.038638   \n",
       "4 -0.790075            0.678079 -0.846733  0.488555         -1.038638   \n",
       "\n",
       "   Coarse Aggregate  Fine Aggregate       Age  \n",
       "0          0.862735       -1.217079 -0.279597  \n",
       "1          1.055651       -1.217079 -0.279597  \n",
       "2         -0.526262       -2.239829  3.551340  \n",
       "3         -0.526262       -2.239829  5.055221  \n",
       "4          0.070492        0.647569  4.976069  "
      ]
     },
     "execution_count": 12,
     "metadata": {},
     "output_type": "execute_result"
    }
   ],
   "source": [
    "predictors_norm = (predictors - predictors.mean()) / predictors.std()\n",
    "predictors_norm.head()"
   ]
  },
  {
   "cell_type": "markdown",
   "metadata": {},
   "source": [
    "Let's save the number of predictors to *n_cols* since we will need this number when building our network.\n"
   ]
  },
  {
   "cell_type": "code",
   "execution_count": 13,
   "metadata": {},
   "outputs": [],
   "source": [
    "n_cols = predictors_norm.shape[1] # number of predictors"
   ]
  },
  {
   "cell_type": "markdown",
   "metadata": {},
   "source": [
    "<a id=\"item1\"></a>\n"
   ]
  },
  {
   "cell_type": "markdown",
   "metadata": {},
   "source": [
    "##  Import Keras Packages\n",
    "\n",
    "##### Let's import the rest of the packages from the Keras library that we will need to build our regression model.\n"
   ]
  },
  {
   "cell_type": "code",
   "execution_count": 14,
   "metadata": {},
   "outputs": [],
   "source": [
    "from keras.models import Sequential\n",
    "from keras.layers import Dense\n",
    "from keras.layers import Input"
   ]
  },
  {
   "cell_type": "markdown",
   "metadata": {},
   "source": [
    "## Build a Neural Network\n"
   ]
  },
  {
   "cell_type": "markdown",
   "metadata": {},
   "source": [
    "Let's define a function that defines our regression model for us so that we can conveniently call it to create our model.\n"
   ]
  },
  {
   "cell_type": "code",
   "execution_count": 15,
   "metadata": {},
   "outputs": [],
   "source": [
    "# define regression model\n",
    "def regression_model():\n",
    "    # create model\n",
    "    model = Sequential()\n",
    "    model.add(Input(shape=(n_cols,)))\n",
    "    model.add(Dense(50, activation='relu'))\n",
    "    model.add(Dense(50, activation='relu'))\n",
    "    model.add(Dense(1))\n",
    "    \n",
    "    # compile model\n",
    "    model.compile(optimizer='adam', loss='mean_squared_error')\n",
    "    return model"
   ]
  },
  {
   "cell_type": "markdown",
   "metadata": {},
   "source": [
    "The above function create a model that has two hidden layers, each of 50 hidden units.\n"
   ]
  },
  {
   "cell_type": "markdown",
   "metadata": {},
   "source": [
    "## Train and Test the Network\n"
   ]
  },
  {
   "cell_type": "markdown",
   "metadata": {},
   "source": [
    "Let's call the function now to create our model.\n"
   ]
  },
  {
   "cell_type": "code",
   "execution_count": 16,
   "metadata": {},
   "outputs": [],
   "source": [
    "# build the model\n",
    "model = regression_model()"
   ]
  },
  {
   "cell_type": "markdown",
   "metadata": {},
   "source": [
    "Next, we will train and test the model at the same time using the *fit* method. We will leave out 30% of the data for validation and we will train the model for 100 epochs.\n"
   ]
  },
  {
   "cell_type": "code",
   "execution_count": 17,
   "metadata": {},
   "outputs": [
    {
     "name": "stdout",
     "output_type": "stream",
     "text": [
      "Epoch 1/100\n",
      "23/23 - 1s - 51ms/step - loss: 1675.7322 - val_loss: 1170.8894\n",
      "Epoch 2/100\n",
      "23/23 - 0s - 7ms/step - loss: 1548.2335 - val_loss: 1060.3688\n",
      "Epoch 3/100\n",
      "23/23 - 0s - 8ms/step - loss: 1352.2870 - val_loss: 887.9577\n",
      "Epoch 4/100\n",
      "23/23 - 0s - 8ms/step - loss: 1051.6780 - val_loss: 652.9719\n",
      "Epoch 5/100\n",
      "23/23 - 0s - 7ms/step - loss: 694.6938 - val_loss: 407.2083\n",
      "Epoch 6/100\n",
      "23/23 - 0s - 7ms/step - loss: 401.7708 - val_loss: 240.6379\n",
      "Epoch 7/100\n",
      "23/23 - 0s - 7ms/step - loss: 272.9112 - val_loss: 179.4250\n",
      "Epoch 8/100\n",
      "23/23 - 0s - 7ms/step - loss: 237.2833 - val_loss: 167.4731\n",
      "Epoch 9/100\n",
      "23/23 - 0s - 6ms/step - loss: 219.2070 - val_loss: 163.0028\n",
      "Epoch 10/100\n",
      "23/23 - 0s - 6ms/step - loss: 207.0617 - val_loss: 159.7803\n",
      "Epoch 11/100\n",
      "23/23 - 0s - 6ms/step - loss: 197.5337 - val_loss: 154.3344\n",
      "Epoch 12/100\n",
      "23/23 - 0s - 6ms/step - loss: 190.2332 - val_loss: 149.5302\n",
      "Epoch 13/100\n",
      "23/23 - 0s - 7ms/step - loss: 183.0790 - val_loss: 148.2964\n",
      "Epoch 14/100\n",
      "23/23 - 0s - 7ms/step - loss: 177.9019 - val_loss: 147.4725\n",
      "Epoch 15/100\n",
      "23/23 - 0s - 7ms/step - loss: 172.9595 - val_loss: 143.9052\n",
      "Epoch 16/100\n",
      "23/23 - 0s - 6ms/step - loss: 169.3779 - val_loss: 143.6447\n",
      "Epoch 17/100\n",
      "23/23 - 0s - 7ms/step - loss: 165.6317 - val_loss: 143.6228\n",
      "Epoch 18/100\n",
      "23/23 - 0s - 7ms/step - loss: 162.1527 - val_loss: 141.7782\n",
      "Epoch 19/100\n",
      "23/23 - 0s - 7ms/step - loss: 158.8937 - val_loss: 143.4628\n",
      "Epoch 20/100\n",
      "23/23 - 0s - 6ms/step - loss: 156.2558 - val_loss: 142.4367\n",
      "Epoch 21/100\n",
      "23/23 - 0s - 7ms/step - loss: 153.1861 - val_loss: 139.6593\n",
      "Epoch 22/100\n",
      "23/23 - 0s - 7ms/step - loss: 150.7526 - val_loss: 141.6978\n",
      "Epoch 23/100\n",
      "23/23 - 0s - 7ms/step - loss: 148.3427 - val_loss: 144.2308\n",
      "Epoch 24/100\n",
      "23/23 - 0s - 7ms/step - loss: 146.8268 - val_loss: 143.0053\n",
      "Epoch 25/100\n",
      "23/23 - 0s - 7ms/step - loss: 145.0774 - val_loss: 143.7834\n",
      "Epoch 26/100\n",
      "23/23 - 0s - 7ms/step - loss: 142.7612 - val_loss: 146.6888\n",
      "Epoch 27/100\n",
      "23/23 - 0s - 7ms/step - loss: 139.9769 - val_loss: 147.7017\n",
      "Epoch 28/100\n",
      "23/23 - 0s - 7ms/step - loss: 138.2061 - val_loss: 148.4903\n",
      "Epoch 29/100\n",
      "23/23 - 0s - 7ms/step - loss: 136.2321 - val_loss: 148.5824\n",
      "Epoch 30/100\n",
      "23/23 - 0s - 6ms/step - loss: 134.5914 - val_loss: 147.6704\n",
      "Epoch 31/100\n",
      "23/23 - 0s - 6ms/step - loss: 132.3892 - val_loss: 149.6375\n",
      "Epoch 32/100\n",
      "23/23 - 0s - 7ms/step - loss: 131.1446 - val_loss: 150.3364\n",
      "Epoch 33/100\n",
      "23/23 - 0s - 7ms/step - loss: 129.2409 - val_loss: 149.6854\n",
      "Epoch 34/100\n",
      "23/23 - 0s - 6ms/step - loss: 127.2774 - val_loss: 152.2978\n",
      "Epoch 35/100\n",
      "23/23 - 0s - 6ms/step - loss: 125.2097 - val_loss: 153.3841\n",
      "Epoch 36/100\n",
      "23/23 - 0s - 7ms/step - loss: 123.8440 - val_loss: 154.0254\n",
      "Epoch 37/100\n",
      "23/23 - 0s - 7ms/step - loss: 122.3539 - val_loss: 152.3557\n",
      "Epoch 38/100\n",
      "23/23 - 0s - 6ms/step - loss: 121.0935 - val_loss: 156.5818\n",
      "Epoch 39/100\n",
      "23/23 - 0s - 7ms/step - loss: 119.2694 - val_loss: 154.6080\n",
      "Epoch 40/100\n",
      "23/23 - 0s - 6ms/step - loss: 117.7167 - val_loss: 155.1306\n",
      "Epoch 41/100\n",
      "23/23 - 0s - 6ms/step - loss: 116.1950 - val_loss: 156.8733\n",
      "Epoch 42/100\n",
      "23/23 - 0s - 7ms/step - loss: 114.8796 - val_loss: 157.6460\n",
      "Epoch 43/100\n",
      "23/23 - 0s - 6ms/step - loss: 113.2744 - val_loss: 157.9508\n",
      "Epoch 44/100\n",
      "23/23 - 0s - 6ms/step - loss: 111.7704 - val_loss: 159.6844\n",
      "Epoch 45/100\n",
      "23/23 - 0s - 6ms/step - loss: 109.9730 - val_loss: 157.5264\n",
      "Epoch 46/100\n",
      "23/23 - 0s - 6ms/step - loss: 108.5122 - val_loss: 160.0768\n",
      "Epoch 47/100\n",
      "23/23 - 0s - 6ms/step - loss: 106.7918 - val_loss: 156.7630\n",
      "Epoch 48/100\n",
      "23/23 - 0s - 6ms/step - loss: 105.0619 - val_loss: 158.6416\n",
      "Epoch 49/100\n",
      "23/23 - 0s - 6ms/step - loss: 103.5722 - val_loss: 158.9497\n",
      "Epoch 50/100\n",
      "23/23 - 0s - 6ms/step - loss: 102.7967 - val_loss: 152.9118\n",
      "Epoch 51/100\n",
      "23/23 - 0s - 7ms/step - loss: 100.6779 - val_loss: 162.9130\n",
      "Epoch 52/100\n",
      "23/23 - 0s - 6ms/step - loss: 97.6772 - val_loss: 156.3207\n",
      "Epoch 53/100\n",
      "23/23 - 0s - 6ms/step - loss: 96.0346 - val_loss: 157.4646\n",
      "Epoch 54/100\n",
      "23/23 - 0s - 6ms/step - loss: 94.5409 - val_loss: 155.6029\n",
      "Epoch 55/100\n",
      "23/23 - 0s - 6ms/step - loss: 91.9044 - val_loss: 152.4538\n",
      "Epoch 56/100\n",
      "23/23 - 0s - 6ms/step - loss: 90.5879 - val_loss: 143.0672\n",
      "Epoch 57/100\n",
      "23/23 - 0s - 7ms/step - loss: 87.6751 - val_loss: 149.6909\n",
      "Epoch 58/100\n",
      "23/23 - 0s - 7ms/step - loss: 84.9943 - val_loss: 150.8558\n",
      "Epoch 59/100\n",
      "23/23 - 0s - 7ms/step - loss: 83.2386 - val_loss: 148.9552\n",
      "Epoch 60/100\n",
      "23/23 - 0s - 6ms/step - loss: 80.9164 - val_loss: 148.9566\n",
      "Epoch 61/100\n",
      "23/23 - 0s - 6ms/step - loss: 79.0650 - val_loss: 148.3955\n",
      "Epoch 62/100\n",
      "23/23 - 0s - 13ms/step - loss: 77.2792 - val_loss: 144.4059\n",
      "Epoch 63/100\n",
      "23/23 - 0s - 7ms/step - loss: 75.1368 - val_loss: 141.3956\n",
      "Epoch 64/100\n",
      "23/23 - 0s - 7ms/step - loss: 73.1082 - val_loss: 147.5371\n",
      "Epoch 65/100\n",
      "23/23 - 0s - 6ms/step - loss: 71.6748 - val_loss: 141.0346\n",
      "Epoch 66/100\n",
      "23/23 - 0s - 6ms/step - loss: 69.8062 - val_loss: 139.6794\n",
      "Epoch 67/100\n",
      "23/23 - 0s - 6ms/step - loss: 67.7925 - val_loss: 137.1495\n",
      "Epoch 68/100\n",
      "23/23 - 0s - 6ms/step - loss: 66.5340 - val_loss: 134.9485\n",
      "Epoch 69/100\n",
      "23/23 - 0s - 6ms/step - loss: 64.7180 - val_loss: 133.1611\n",
      "Epoch 70/100\n",
      "23/23 - 0s - 6ms/step - loss: 63.3817 - val_loss: 138.5016\n",
      "Epoch 71/100\n",
      "23/23 - 0s - 6ms/step - loss: 62.0153 - val_loss: 132.4371\n",
      "Epoch 72/100\n",
      "23/23 - 0s - 6ms/step - loss: 60.4037 - val_loss: 131.6998\n",
      "Epoch 73/100\n",
      "23/23 - 0s - 7ms/step - loss: 59.1017 - val_loss: 130.2414\n",
      "Epoch 74/100\n",
      "23/23 - 0s - 6ms/step - loss: 57.6930 - val_loss: 131.2995\n",
      "Epoch 75/100\n",
      "23/23 - 0s - 6ms/step - loss: 57.5651 - val_loss: 125.5043\n",
      "Epoch 76/100\n",
      "23/23 - 0s - 6ms/step - loss: 55.8415 - val_loss: 126.4645\n",
      "Epoch 77/100\n",
      "23/23 - 0s - 6ms/step - loss: 54.7746 - val_loss: 123.6306\n",
      "Epoch 78/100\n",
      "23/23 - 0s - 6ms/step - loss: 54.1563 - val_loss: 121.4988\n",
      "Epoch 79/100\n",
      "23/23 - 0s - 7ms/step - loss: 52.9048 - val_loss: 121.6245\n",
      "Epoch 80/100\n",
      "23/23 - 0s - 7ms/step - loss: 52.3232 - val_loss: 119.4286\n",
      "Epoch 81/100\n",
      "23/23 - 0s - 6ms/step - loss: 51.8191 - val_loss: 123.2619\n",
      "Epoch 82/100\n",
      "23/23 - 0s - 6ms/step - loss: 50.7567 - val_loss: 120.0314\n",
      "Epoch 83/100\n",
      "23/23 - 0s - 7ms/step - loss: 50.1107 - val_loss: 116.1447\n",
      "Epoch 84/100\n",
      "23/23 - 0s - 6ms/step - loss: 49.4456 - val_loss: 114.8688\n",
      "Epoch 85/100\n",
      "23/23 - 0s - 7ms/step - loss: 48.5439 - val_loss: 117.9282\n",
      "Epoch 86/100\n",
      "23/23 - 0s - 7ms/step - loss: 48.3684 - val_loss: 115.5161\n",
      "Epoch 87/100\n",
      "23/23 - 0s - 6ms/step - loss: 48.3623 - val_loss: 117.3697\n",
      "Epoch 88/100\n",
      "23/23 - 0s - 7ms/step - loss: 47.0344 - val_loss: 111.1870\n",
      "Epoch 89/100\n",
      "23/23 - 0s - 7ms/step - loss: 46.0869 - val_loss: 113.5616\n",
      "Epoch 90/100\n",
      "23/23 - 0s - 7ms/step - loss: 45.6843 - val_loss: 109.8016\n",
      "Epoch 91/100\n",
      "23/23 - 0s - 6ms/step - loss: 44.9631 - val_loss: 110.0686\n",
      "Epoch 92/100\n",
      "23/23 - 0s - 6ms/step - loss: 44.3166 - val_loss: 109.6759\n",
      "Epoch 93/100\n",
      "23/23 - 0s - 6ms/step - loss: 43.8769 - val_loss: 106.1159\n",
      "Epoch 94/100\n",
      "23/23 - 0s - 6ms/step - loss: 43.6031 - val_loss: 113.4186\n",
      "Epoch 95/100\n",
      "23/23 - 0s - 6ms/step - loss: 43.1281 - val_loss: 106.8097\n",
      "Epoch 96/100\n",
      "23/23 - 0s - 7ms/step - loss: 42.1022 - val_loss: 108.2431\n",
      "Epoch 97/100\n",
      "23/23 - 0s - 6ms/step - loss: 41.7581 - val_loss: 109.2270\n",
      "Epoch 98/100\n",
      "23/23 - 0s - 7ms/step - loss: 41.3288 - val_loss: 103.3182\n",
      "Epoch 99/100\n",
      "23/23 - 0s - 7ms/step - loss: 40.9712 - val_loss: 108.4300\n",
      "Epoch 100/100\n",
      "23/23 - 0s - 6ms/step - loss: 40.6378 - val_loss: 107.5654\n"
     ]
    },
    {
     "data": {
      "text/plain": [
       "<keras.src.callbacks.history.History at 0x7da250283770>"
      ]
     },
     "execution_count": 17,
     "metadata": {},
     "output_type": "execute_result"
    }
   ],
   "source": [
    "# fit the model\n",
    "model.fit(predictors_norm, target, validation_split=0.3, epochs=100, verbose=2)"
   ]
  },
  {
   "cell_type": "markdown",
   "metadata": {},
   "source": [
    "<strong>You can refer to this [link](https://keras.io/models/sequential/) to learn about other functions that you can use for prediction or evaluation.</strong>\n"
   ]
  },
  {
   "cell_type": "markdown",
   "metadata": {},
   "source": [
    "Feel free to vary the following and note what impact each change has on the model's performance:\n",
    "\n",
    "1. Increase or decreate number of neurons in hidden layers\n",
    "2. Add more hidden layers\n",
    "3. Increase number of epochs\n"
   ]
  },
  {
   "cell_type": "markdown",
   "metadata": {},
   "source": [
    "<h3>Practice Exercise 1</h3>\n"
   ]
  },
  {
   "cell_type": "markdown",
   "metadata": {},
   "source": [
    "Now using the same dateset,try to recreate regression model featuring five hidden layers, each with 50 nodes and ReLU activation functions, a single output layer, optimized using the Adam optimizer.\n"
   ]
  },
  {
   "cell_type": "code",
   "execution_count": 20,
   "metadata": {},
   "outputs": [
    {
     "name": "stdout",
     "output_type": "stream",
     "text": [
      "Epoch 1/100\n",
      "23/23 - 2s - 79ms/step - loss: 1635.2582 - val_loss: 1049.1840\n",
      "Epoch 2/100\n",
      "23/23 - 0s - 21ms/step - loss: 959.1372 - val_loss: 209.0383\n",
      "Epoch 3/100\n",
      "23/23 - 0s - 9ms/step - loss: 320.5391 - val_loss: 197.4105\n",
      "Epoch 4/100\n",
      "23/23 - 0s - 9ms/step - loss: 237.0281 - val_loss: 183.8047\n",
      "Epoch 5/100\n",
      "23/23 - 0s - 12ms/step - loss: 211.4337 - val_loss: 189.1839\n",
      "Epoch 6/100\n",
      "23/23 - 0s - 13ms/step - loss: 188.1913 - val_loss: 164.6743\n",
      "Epoch 7/100\n",
      "23/23 - 0s - 8ms/step - loss: 170.6611 - val_loss: 172.4577\n",
      "Epoch 8/100\n",
      "23/23 - 0s - 11ms/step - loss: 157.1549 - val_loss: 163.5535\n",
      "Epoch 9/100\n",
      "23/23 - 0s - 14ms/step - loss: 144.3818 - val_loss: 164.4105\n",
      "Epoch 10/100\n",
      "23/23 - 0s - 15ms/step - loss: 130.6156 - val_loss: 163.0172\n",
      "Epoch 11/100\n",
      "23/23 - 0s - 15ms/step - loss: 114.3718 - val_loss: 141.7730\n",
      "Epoch 12/100\n",
      "23/23 - 0s - 15ms/step - loss: 98.3720 - val_loss: 172.0062\n",
      "Epoch 13/100\n",
      "23/23 - 0s - 15ms/step - loss: 85.4779 - val_loss: 167.2504\n",
      "Epoch 14/100\n",
      "23/23 - 0s - 14ms/step - loss: 73.8776 - val_loss: 150.8446\n",
      "Epoch 15/100\n",
      "23/23 - 0s - 16ms/step - loss: 66.6986 - val_loss: 126.5572\n",
      "Epoch 16/100\n",
      "23/23 - 0s - 15ms/step - loss: 62.2346 - val_loss: 145.7944\n",
      "Epoch 17/100\n",
      "23/23 - 0s - 16ms/step - loss: 57.8001 - val_loss: 146.6455\n",
      "Epoch 18/100\n",
      "23/23 - 0s - 13ms/step - loss: 52.7878 - val_loss: 138.7301\n",
      "Epoch 19/100\n",
      "23/23 - 0s - 14ms/step - loss: 49.9697 - val_loss: 158.8575\n",
      "Epoch 20/100\n",
      "23/23 - 0s - 12ms/step - loss: 46.6733 - val_loss: 140.3428\n",
      "Epoch 21/100\n",
      "23/23 - 0s - 14ms/step - loss: 46.7912 - val_loss: 159.1406\n",
      "Epoch 22/100\n",
      "23/23 - 0s - 11ms/step - loss: 41.8679 - val_loss: 160.1113\n",
      "Epoch 23/100\n",
      "23/23 - 0s - 8ms/step - loss: 41.1708 - val_loss: 150.8801\n",
      "Epoch 24/100\n",
      "23/23 - 0s - 8ms/step - loss: 39.1971 - val_loss: 138.9330\n",
      "Epoch 25/100\n",
      "23/23 - 0s - 8ms/step - loss: 37.2821 - val_loss: 137.7689\n",
      "Epoch 26/100\n",
      "23/23 - 0s - 8ms/step - loss: 35.2894 - val_loss: 163.9723\n",
      "Epoch 27/100\n",
      "23/23 - 0s - 8ms/step - loss: 33.1845 - val_loss: 143.8380\n",
      "Epoch 28/100\n",
      "23/23 - 0s - 7ms/step - loss: 33.7887 - val_loss: 156.5902\n",
      "Epoch 29/100\n",
      "23/23 - 0s - 8ms/step - loss: 31.2196 - val_loss: 136.4676\n",
      "Epoch 30/100\n",
      "23/23 - 0s - 7ms/step - loss: 29.8268 - val_loss: 144.5978\n",
      "Epoch 31/100\n",
      "23/23 - 0s - 8ms/step - loss: 27.4285 - val_loss: 147.5365\n",
      "Epoch 32/100\n",
      "23/23 - 0s - 7ms/step - loss: 26.0115 - val_loss: 154.2786\n",
      "Epoch 33/100\n",
      "23/23 - 0s - 8ms/step - loss: 25.8266 - val_loss: 147.8702\n",
      "Epoch 34/100\n",
      "23/23 - 0s - 8ms/step - loss: 23.9916 - val_loss: 131.2754\n",
      "Epoch 35/100\n",
      "23/23 - 0s - 8ms/step - loss: 25.3319 - val_loss: 117.8938\n",
      "Epoch 36/100\n",
      "23/23 - 0s - 8ms/step - loss: 24.8997 - val_loss: 114.2440\n",
      "Epoch 37/100\n",
      "23/23 - 0s - 7ms/step - loss: 25.5429 - val_loss: 165.2103\n",
      "Epoch 38/100\n",
      "23/23 - 0s - 8ms/step - loss: 24.6313 - val_loss: 126.5945\n",
      "Epoch 39/100\n",
      "23/23 - 0s - 8ms/step - loss: 22.3543 - val_loss: 122.5978\n",
      "Epoch 40/100\n",
      "23/23 - 0s - 7ms/step - loss: 21.4305 - val_loss: 123.8178\n",
      "Epoch 41/100\n",
      "23/23 - 0s - 8ms/step - loss: 20.7614 - val_loss: 135.8372\n",
      "Epoch 42/100\n",
      "23/23 - 0s - 8ms/step - loss: 20.3271 - val_loss: 125.5303\n",
      "Epoch 43/100\n",
      "23/23 - 0s - 8ms/step - loss: 19.8090 - val_loss: 119.4731\n",
      "Epoch 44/100\n",
      "23/23 - 0s - 8ms/step - loss: 19.2146 - val_loss: 126.9041\n",
      "Epoch 45/100\n",
      "23/23 - 0s - 8ms/step - loss: 19.0877 - val_loss: 126.4114\n",
      "Epoch 46/100\n",
      "23/23 - 0s - 8ms/step - loss: 20.5146 - val_loss: 136.5839\n",
      "Epoch 47/100\n",
      "23/23 - 0s - 7ms/step - loss: 19.5653 - val_loss: 130.3951\n",
      "Epoch 48/100\n",
      "23/23 - 0s - 8ms/step - loss: 19.0531 - val_loss: 112.9373\n",
      "Epoch 49/100\n",
      "23/23 - 0s - 8ms/step - loss: 17.5880 - val_loss: 133.7568\n",
      "Epoch 50/100\n",
      "23/23 - 0s - 8ms/step - loss: 17.0795 - val_loss: 117.7687\n",
      "Epoch 51/100\n",
      "23/23 - 0s - 7ms/step - loss: 16.8321 - val_loss: 117.0459\n",
      "Epoch 52/100\n",
      "23/23 - 0s - 8ms/step - loss: 16.0272 - val_loss: 110.1290\n",
      "Epoch 53/100\n",
      "23/23 - 0s - 8ms/step - loss: 16.2614 - val_loss: 115.5174\n",
      "Epoch 54/100\n",
      "23/23 - 0s - 7ms/step - loss: 17.8997 - val_loss: 97.9896\n",
      "Epoch 55/100\n",
      "23/23 - 0s - 7ms/step - loss: 17.1355 - val_loss: 93.2854\n",
      "Epoch 56/100\n",
      "23/23 - 0s - 8ms/step - loss: 19.9471 - val_loss: 84.8887\n",
      "Epoch 57/100\n",
      "23/23 - 0s - 7ms/step - loss: 15.8840 - val_loss: 108.4594\n",
      "Epoch 58/100\n",
      "23/23 - 0s - 8ms/step - loss: 15.8169 - val_loss: 86.9708\n",
      "Epoch 59/100\n",
      "23/23 - 0s - 7ms/step - loss: 16.6168 - val_loss: 105.8242\n",
      "Epoch 60/100\n",
      "23/23 - 0s - 8ms/step - loss: 16.0542 - val_loss: 107.4988\n",
      "Epoch 61/100\n",
      "23/23 - 0s - 8ms/step - loss: 15.6487 - val_loss: 125.8489\n",
      "Epoch 62/100\n",
      "23/23 - 0s - 8ms/step - loss: 16.6259 - val_loss: 92.9767\n",
      "Epoch 63/100\n",
      "23/23 - 0s - 9ms/step - loss: 14.9677 - val_loss: 92.9672\n",
      "Epoch 64/100\n",
      "23/23 - 0s - 8ms/step - loss: 15.0080 - val_loss: 91.5963\n",
      "Epoch 65/100\n",
      "23/23 - 0s - 8ms/step - loss: 14.8174 - val_loss: 93.2694\n",
      "Epoch 66/100\n",
      "23/23 - 0s - 8ms/step - loss: 14.8728 - val_loss: 93.2875\n",
      "Epoch 67/100\n",
      "23/23 - 0s - 8ms/step - loss: 15.4801 - val_loss: 95.7085\n",
      "Epoch 68/100\n",
      "23/23 - 0s - 8ms/step - loss: 14.0893 - val_loss: 99.2663\n",
      "Epoch 69/100\n",
      "23/23 - 0s - 14ms/step - loss: 14.1871 - val_loss: 87.0354\n",
      "Epoch 70/100\n",
      "23/23 - 0s - 9ms/step - loss: 14.1430 - val_loss: 83.9098\n",
      "Epoch 71/100\n",
      "23/23 - 0s - 8ms/step - loss: 14.2381 - val_loss: 96.4487\n",
      "Epoch 72/100\n",
      "23/23 - 0s - 7ms/step - loss: 15.5399 - val_loss: 95.6044\n",
      "Epoch 73/100\n",
      "23/23 - 0s - 8ms/step - loss: 13.9771 - val_loss: 84.1172\n",
      "Epoch 74/100\n",
      "23/23 - 0s - 8ms/step - loss: 14.2475 - val_loss: 106.8636\n",
      "Epoch 75/100\n",
      "23/23 - 0s - 7ms/step - loss: 14.6280 - val_loss: 108.1615\n",
      "Epoch 76/100\n",
      "23/23 - 0s - 8ms/step - loss: 12.9614 - val_loss: 98.4550\n",
      "Epoch 77/100\n",
      "23/23 - 0s - 7ms/step - loss: 13.8020 - val_loss: 92.5194\n",
      "Epoch 78/100\n",
      "23/23 - 0s - 8ms/step - loss: 13.8707 - val_loss: 102.3700\n",
      "Epoch 79/100\n",
      "23/23 - 0s - 7ms/step - loss: 13.7694 - val_loss: 91.4882\n",
      "Epoch 80/100\n",
      "23/23 - 0s - 8ms/step - loss: 12.0115 - val_loss: 108.9593\n",
      "Epoch 81/100\n",
      "23/23 - 0s - 7ms/step - loss: 13.2828 - val_loss: 89.1848\n",
      "Epoch 82/100\n",
      "23/23 - 0s - 8ms/step - loss: 13.4553 - val_loss: 97.6560\n",
      "Epoch 83/100\n",
      "23/23 - 0s - 7ms/step - loss: 12.8825 - val_loss: 96.8000\n",
      "Epoch 84/100\n",
      "23/23 - 0s - 7ms/step - loss: 12.5852 - val_loss: 88.7739\n",
      "Epoch 85/100\n",
      "23/23 - 0s - 8ms/step - loss: 12.8950 - val_loss: 84.3377\n",
      "Epoch 86/100\n",
      "23/23 - 0s - 8ms/step - loss: 11.8324 - val_loss: 89.0454\n",
      "Epoch 87/100\n",
      "23/23 - 0s - 7ms/step - loss: 12.3959 - val_loss: 87.1715\n",
      "Epoch 88/100\n",
      "23/23 - 0s - 8ms/step - loss: 12.5855 - val_loss: 89.5281\n",
      "Epoch 89/100\n",
      "23/23 - 0s - 8ms/step - loss: 12.5753 - val_loss: 79.0530\n",
      "Epoch 90/100\n",
      "23/23 - 0s - 8ms/step - loss: 13.3667 - val_loss: 88.9062\n",
      "Epoch 91/100\n",
      "23/23 - 0s - 8ms/step - loss: 12.4199 - val_loss: 84.7332\n",
      "Epoch 92/100\n",
      "23/23 - 0s - 8ms/step - loss: 12.2953 - val_loss: 79.4949\n",
      "Epoch 93/100\n",
      "23/23 - 0s - 8ms/step - loss: 13.6070 - val_loss: 78.8639\n",
      "Epoch 94/100\n",
      "23/23 - 0s - 8ms/step - loss: 15.3669 - val_loss: 84.7822\n",
      "Epoch 95/100\n",
      "23/23 - 0s - 7ms/step - loss: 12.4056 - val_loss: 106.0019\n",
      "Epoch 96/100\n",
      "23/23 - 0s - 7ms/step - loss: 11.9817 - val_loss: 102.7163\n",
      "Epoch 97/100\n",
      "23/23 - 0s - 8ms/step - loss: 15.4106 - val_loss: 121.4847\n",
      "Epoch 98/100\n",
      "23/23 - 0s - 7ms/step - loss: 13.0081 - val_loss: 85.0215\n",
      "Epoch 99/100\n",
      "23/23 - 0s - 8ms/step - loss: 11.2474 - val_loss: 95.6228\n",
      "Epoch 100/100\n",
      "23/23 - 0s - 7ms/step - loss: 11.2490 - val_loss: 89.4113\n"
     ]
    },
    {
     "data": {
      "text/plain": [
       "<keras.src.callbacks.history.History at 0x7da21d0a8710>"
      ]
     },
     "execution_count": 20,
     "metadata": {},
     "output_type": "execute_result"
    }
   ],
   "source": [
    "# Write your code here\n",
    "\n",
    "def regression_model():\n",
    "    # create model\n",
    "    model = Sequential()\n",
    "    model.add(Input(shape=(n_cols,)))\n",
    "    model.add(Dense(50, activation='relu'))\n",
    "    model.add(Dense(50, activation='relu'))\n",
    "    model.add(Dense(50, activation='relu'))\n",
    "    model.add(Dense(50, activation='relu'))\n",
    "    model.add(Dense(50, activation='relu'))\n",
    "    model.add(Dense(1))\n",
    "    \n",
    "    # compile model\n",
    "    model.compile(optimizer='adam', loss='mean_squared_error')\n",
    "    return model\n",
    "\n",
    "model = regression_model()\n",
    "model.fit(predictors_norm, target, validation_split=0.3, epochs=100, verbose=2)"
   ]
  },
  {
   "cell_type": "markdown",
   "metadata": {},
   "source": [
    "Double-click <b>here</b> for the solution.\n",
    "\n",
    "<!-- Your answer is below:\n",
    "def regression_model():\n",
    "    input_colm = predictors_norm.shape[1] # Number of input features\n",
    "    # create model\n",
    "    model = Sequential()\n",
    "    model.add(Input(shape=(input_colm,)))  # Set the number of input features \n",
    "    model.add(Dense(50, activation='relu'))  \n",
    "    model.add(Dense(50, activation='relu'))\n",
    "    model.add(Dense(50, activation='relu')) \n",
    "    model.add(Dense(50, activation='relu'))\n",
    "    model.add(Dense(50, activation='relu'))  \n",
    "    model.add(Dense(1))  # Output layer\n",
    "    \n",
    "    # compile model\n",
    "    model.compile(optimizer='adam', loss='mean_squared_error')\n",
    "    return model\n",
    "\n",
    "-->\n"
   ]
  },
  {
   "cell_type": "markdown",
   "metadata": {},
   "source": [
    "<h3>Practice Exercise 2</h3>\n"
   ]
  },
  {
   "cell_type": "markdown",
   "metadata": {},
   "source": [
    " Train and evaluate the model simultaneously using the fit() method by reserving 10% of the data for validation and training the model for 100 epochs\n"
   ]
  },
  {
   "cell_type": "code",
   "execution_count": null,
   "metadata": {},
   "outputs": [],
   "source": [
    "# Write your code here\n",
    "\n"
   ]
  },
  {
   "cell_type": "markdown",
   "metadata": {},
   "source": [
    "Double-click <b>here</b> for the solution.\n",
    "\n",
    "<!-- Your answer is below:\n",
    "# build the model\n",
    "model = regression_model()\n",
    "model.fit(predictors_norm, target, validation_split=0.1, epochs=100, verbose=2)\n",
    "\n",
    "-->\n"
   ]
  },
  {
   "cell_type": "markdown",
   "metadata": {},
   "source": [
    "Based on the results, we notice that:\n",
    "\n",
    "- Adding more hidden layers to the model increases its capacity to learn and represent complex relationships within the data. This allows the model to better identify, as a result, the model becomes more effective at fitting the training data and potentially improving its predictions.\n",
    "- By reducing the proportion of data set aside for validation and using a larger portion for training, the model has access to more examples to learn from. This additional training data helps the model improve its understanding of the underlying trends, which can lead to better overall performance.  \n"
   ]
  },
  {
   "cell_type": "markdown",
   "metadata": {},
   "source": [
    "### Thank you for completing this lab!\n",
    "\n",
    "This notebook was created by [Alex Aklson](https://www.linkedin.com/in/aklson/). I hope you found this lab interesting and educational. Feel free to contact me if you have any questions!\n"
   ]
  },
  {
   "cell_type": "markdown",
   "metadata": {},
   "source": [
    "<!--\n",
    "## Change Log\n",
    "\n",
    "|  Date (YYYY-MM-DD) |  Version | Changed By  |  Change Description |\n",
    "|---|---|---|---|\n",
    "| 2024-11-20  | 3.0  | Aman  |  Updated the library versions to current |\n",
    "| 2020-09-21  | 2.0  | Srishti  |  Migrated Lab to Markdown and added to course repo in GitLab |\n",
    "\n",
    "\n",
    "\n",
    "<hr>\n",
    "\n",
    "## <h3 align=\"center\"> © IBM Corporation. All rights reserved. <h3/>\n"
   ]
  },
  {
   "cell_type": "markdown",
   "metadata": {},
   "source": [
    "## <h3 align=\"center\"> &#169; IBM Corporation. All rights reserved. <h3/>\n",
    "\n"
   ]
  }
 ],
 "metadata": {
  "kernelspec": {
   "display_name": "Python 3 (ipykernel)",
   "language": "python",
   "name": "python3"
  },
  "language_info": {
   "codemirror_mode": {
    "name": "ipython",
    "version": 3
   },
   "file_extension": ".py",
   "mimetype": "text/x-python",
   "name": "python",
   "nbconvert_exporter": "python",
   "pygments_lexer": "ipython3",
   "version": "3.12.8"
  },
  "prev_pub_hash": "1318243f5c57a871ada11a63a887b187b71b9e224c59cc45cb9fac7ca19844fc"
 },
 "nbformat": 4,
 "nbformat_minor": 4
}
